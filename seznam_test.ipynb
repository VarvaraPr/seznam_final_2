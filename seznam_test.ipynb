{
 "cells": [
  {
   "cell_type": "code",
   "execution_count": 1,
   "id": "df4bb318",
   "metadata": {},
   "outputs": [],
   "source": [
    "# loading useful packages\n",
    "import pandas as pd\n",
    "import seaborn as sns"
   ]
  },
  {
   "cell_type": "markdown",
   "id": "b0a996de",
   "metadata": {},
   "source": [
    "### Slovník pojmů:\n",
    "\n",
    "product_by_counts - tabulka zobrazuje top 3 produktů s nejlepším poměrem kliků ku zobrazení\\\n",
    "click_rate - sloupes v tabulce product_by_counts s výpočtem klik/zobrazení\\\n",
    "category_by_counts - tabulka suma zobrazení a kliků podle produktů\\\n",
    "correlation - vypočet koeficientu závislosti počtů prokliků na nabídce produktů\\\n",
    "availability_by_counts - počet prokliků v kategorii produktů s důrazem na dostupnost "
   ]
  },
  {
   "cell_type": "code",
   "execution_count": 2,
   "id": "447a4088-5d0c-42c7-bf76-b4ac37e0ddf9",
   "metadata": {},
   "outputs": [],
   "source": [
    " #read the file\n",
    "click = pd.read_csv('click.csv', sep = ';', names = ['userId', 'clickTime', 'productId', 'availability', 'pos', 'clickCount'])\n",
    "impress = pd.read_csv ('impress.csv', sep = ';', names =  ['userId', 'impressTime', 'productId', 'categoryName', 'offers', 'impressCount'])"
   ]
  },
  {
   "cell_type": "code",
   "execution_count": 3,
   "id": "2d94e4fe-8c93-4705-b8fe-feb331eabc52",
   "metadata": {},
   "outputs": [],
   "source": [
    "#preprocessing steps\n",
    "click['userId'] = click['userId'].abs()\n",
    "click = click[~click['productId'].isin(['\\\\N'])]\n",
    "impress['userId'] = impress['userId'].abs()\n",
    "impress = impress[~impress['productId'].isin(['\\\\N'])]\n",
    "\n",
    "click[['userId','productId','clickCount']] = click[['userId','productId','clickCount']].astype('int64') \n",
    "impress[['userId','productId','impressCount','offers']] = impress[['userId','productId','impressCount','offers']].astype('int64')"
   ]
  },
  {
   "cell_type": "code",
   "execution_count": 4,
   "id": "912825f3",
   "metadata": {},
   "outputs": [
    {
     "data": {
      "text/html": [
       "<div>\n",
       "<style scoped>\n",
       "    .dataframe tbody tr th:only-of-type {\n",
       "        vertical-align: middle;\n",
       "    }\n",
       "\n",
       "    .dataframe tbody tr th {\n",
       "        vertical-align: top;\n",
       "    }\n",
       "\n",
       "    .dataframe thead th {\n",
       "        text-align: right;\n",
       "    }\n",
       "</style>\n",
       "<table border=\"1\" class=\"dataframe\">\n",
       "  <thead>\n",
       "    <tr style=\"text-align: right;\">\n",
       "      <th></th>\n",
       "      <th>userId</th>\n",
       "      <th>impressTime</th>\n",
       "      <th>productId</th>\n",
       "      <th>categoryName</th>\n",
       "      <th>offers</th>\n",
       "      <th>impressCount</th>\n",
       "      <th>clickTime</th>\n",
       "      <th>availability</th>\n",
       "      <th>pos</th>\n",
       "      <th>clickCount</th>\n",
       "    </tr>\n",
       "  </thead>\n",
       "  <tbody>\n",
       "    <tr>\n",
       "      <th>0</th>\n",
       "      <td>1000667737595868520</td>\n",
       "      <td>16:53:28</td>\n",
       "      <td>5345155</td>\n",
       "      <td>Outdoorové batohy</td>\n",
       "      <td>18</td>\n",
       "      <td>1</td>\n",
       "      <td>0</td>\n",
       "      <td>0</td>\n",
       "      <td>0</td>\n",
       "      <td>0.0</td>\n",
       "    </tr>\n",
       "    <tr>\n",
       "      <th>1</th>\n",
       "      <td>1000986301389262527</td>\n",
       "      <td>16:11:23</td>\n",
       "      <td>929457</td>\n",
       "      <td>Letní osobní pneu</td>\n",
       "      <td>66</td>\n",
       "      <td>1</td>\n",
       "      <td>0</td>\n",
       "      <td>0</td>\n",
       "      <td>0</td>\n",
       "      <td>0.0</td>\n",
       "    </tr>\n",
       "    <tr>\n",
       "      <th>2</th>\n",
       "      <td>1001489680877270341</td>\n",
       "      <td>15:36:57</td>\n",
       "      <td>5841880</td>\n",
       "      <td>Chytré hodinky</td>\n",
       "      <td>107</td>\n",
       "      <td>1</td>\n",
       "      <td>0</td>\n",
       "      <td>0</td>\n",
       "      <td>0</td>\n",
       "      <td>0.0</td>\n",
       "    </tr>\n",
       "    <tr>\n",
       "      <th>3</th>\n",
       "      <td>1004940724779872737</td>\n",
       "      <td>15:04:13</td>\n",
       "      <td>4065922</td>\n",
       "      <td>Kanalizační potrubí</td>\n",
       "      <td>2</td>\n",
       "      <td>1</td>\n",
       "      <td>15:04:22</td>\n",
       "      <td>at_depot</td>\n",
       "      <td>0</td>\n",
       "      <td>1.0</td>\n",
       "    </tr>\n",
       "    <tr>\n",
       "      <th>4</th>\n",
       "      <td>100703232129898231</td>\n",
       "      <td>15:29:23</td>\n",
       "      <td>488638</td>\n",
       "      <td>Homeopatika</td>\n",
       "      <td>39</td>\n",
       "      <td>1</td>\n",
       "      <td>0</td>\n",
       "      <td>0</td>\n",
       "      <td>0</td>\n",
       "      <td>0.0</td>\n",
       "    </tr>\n",
       "  </tbody>\n",
       "</table>\n",
       "</div>"
      ],
      "text/plain": [
       "                userId impressTime  productId         categoryName  offers  \\\n",
       "0  1000667737595868520    16:53:28    5345155    Outdoorové batohy      18   \n",
       "1  1000986301389262527    16:11:23     929457    Letní osobní pneu      66   \n",
       "2  1001489680877270341    15:36:57    5841880       Chytré hodinky     107   \n",
       "3  1004940724779872737    15:04:13    4065922  Kanalizační potrubí       2   \n",
       "4   100703232129898231    15:29:23     488638          Homeopatika      39   \n",
       "\n",
       "   impressCount clickTime availability pos  clickCount  \n",
       "0             1         0            0   0         0.0  \n",
       "1             1         0            0   0         0.0  \n",
       "2             1         0            0   0         0.0  \n",
       "3             1  15:04:22     at_depot   0         1.0  \n",
       "4             1         0            0   0         0.0  "
      ]
     },
     "execution_count": 4,
     "metadata": {},
     "output_type": "execute_result"
    }
   ],
   "source": [
    "# join tables based on userId, productId columns\n",
    "# vysledna tabulka\n",
    "df = impress.merge(click, how = 'left', on = ['userId', 'productId']).fillna(0)\n",
    "df.head()"
   ]
  },
  {
   "cell_type": "markdown",
   "id": "d612eada",
   "metadata": {},
   "source": [
    "### U jakého produktu je nejlepší poměr prokliků ku zobrazení?"
   ]
  },
  {
   "cell_type": "code",
   "execution_count": 5,
   "id": "fc0818c9",
   "metadata": {
    "scrolled": true,
    "tags": []
   },
   "outputs": [
    {
     "data": {
      "text/html": [
       "<div>\n",
       "<style scoped>\n",
       "    .dataframe tbody tr th:only-of-type {\n",
       "        vertical-align: middle;\n",
       "    }\n",
       "\n",
       "    .dataframe tbody tr th {\n",
       "        vertical-align: top;\n",
       "    }\n",
       "\n",
       "    .dataframe thead th {\n",
       "        text-align: right;\n",
       "    }\n",
       "</style>\n",
       "<table border=\"1\" class=\"dataframe\">\n",
       "  <thead>\n",
       "    <tr style=\"text-align: right;\">\n",
       "      <th></th>\n",
       "      <th>impressCount</th>\n",
       "      <th>clickCount</th>\n",
       "      <th>click_rate</th>\n",
       "    </tr>\n",
       "    <tr>\n",
       "      <th>productId</th>\n",
       "      <th></th>\n",
       "      <th></th>\n",
       "      <th></th>\n",
       "    </tr>\n",
       "  </thead>\n",
       "  <tbody>\n",
       "    <tr>\n",
       "      <th>5018434</th>\n",
       "      <td>1</td>\n",
       "      <td>2.0</td>\n",
       "      <td>2.0</td>\n",
       "    </tr>\n",
       "    <tr>\n",
       "      <th>6382055</th>\n",
       "      <td>4</td>\n",
       "      <td>8.0</td>\n",
       "      <td>2.0</td>\n",
       "    </tr>\n",
       "    <tr>\n",
       "      <th>6348589</th>\n",
       "      <td>1</td>\n",
       "      <td>2.0</td>\n",
       "      <td>2.0</td>\n",
       "    </tr>\n",
       "  </tbody>\n",
       "</table>\n",
       "</div>"
      ],
      "text/plain": [
       "           impressCount  clickCount  click_rate\n",
       "productId                                      \n",
       "5018434               1         2.0         2.0\n",
       "6382055               4         8.0         2.0\n",
       "6348589               1         2.0         2.0"
      ]
     },
     "execution_count": 5,
     "metadata": {},
     "output_type": "execute_result"
    }
   ],
   "source": [
    "#tabulka celková suma impressCount a clickCount podle každého productId\n",
    "#výběr jen nenulových řádků v clickCount\n",
    "#výpočet poměru prokliků ku zobrazení\n",
    "#zobrazení top 3 nejlepších hodnot poměrů kliknutí ku zobrazení \n",
    "product_by_counts = df[['productId','impressCount','clickCount']].groupby('productId').sum()\n",
    "product_by_counts = product_by_counts[product_by_counts.clickCount != 0]\n",
    "product_by_counts['click_rate']=product_by_counts.apply(lambda row: row.clickCount / row.impressCount, axis=1)\n",
    "\n",
    "product_by_counts.sort_values('click_rate', ascending = False).head(3)"
   ]
  },
  {
   "cell_type": "markdown",
   "id": "3a94e6e9",
   "metadata": {},
   "source": [
    "### Která produktová kategorie je nejproklikávanější a která nejzobrazovanější?"
   ]
  },
  {
   "cell_type": "code",
   "execution_count": 6,
   "id": "ae45271e",
   "metadata": {},
   "outputs": [],
   "source": [
    "#tabulka celková suma zobrazení a prokliků podle kategorie produktu\n",
    "category_by_counts = df[['categoryName','impressCount','clickCount']].groupby('categoryName',as_index=False).sum()\n",
    "\n",
    "impressMaxCategory = category_by_counts.sort_values('impressCount', ascending=False).head(1).iat[0,0]\n",
    "impressMaxCount = category_by_counts.sort_values('impressCount', ascending=False).head(1).iat[0,1]\n",
    "clickMaxCategory = category_by_counts.sort_values('clickCount', ascending=False).head(1).iat[0,0]\n",
    "clickMaxCount = category_by_counts.sort_values('clickCount', ascending=False).head(1).iat[0,2]"
   ]
  },
  {
   "cell_type": "code",
   "execution_count": 7,
   "id": "d5737eb3",
   "metadata": {},
   "outputs": [
    {
     "name": "stdout",
     "output_type": "stream",
     "text": [
      "Největší počet zobrazení je v kategorii Ochranné masky, roušky a respirátory, počet zobrazení: 2623 \n",
      "Největší počet prokliků je v kategorii Ochranné masky, roušky a respirátory, počet prokliků: 1902.0\n"
     ]
    }
   ],
   "source": [
    "print(f'Největší počet zobrazení je v kategorii {impressMaxCategory}, počet zobrazení: {impressMaxCount} \\nNejvětší počet prokliků je v kategorii {clickMaxCategory}, počet prokliků: {clickMaxCount}')"
   ]
  },
  {
   "cell_type": "markdown",
   "id": "63b78e84",
   "metadata": {},
   "source": [
    "### Má počet nabídek produktu nějaký vliv na jeho proklikovost?"
   ]
  },
  {
   "cell_type": "code",
   "execution_count": 8,
   "id": "6d5151bb",
   "metadata": {},
   "outputs": [
    {
     "name": "stdout",
     "output_type": "stream",
     "text": [
      "Korelační koeficient se rovná 0.052060271580508174, což ukazuje na to, že mezi počtem nabídek zobrazeného produktu a počtem kliku není lineární závoslot\n"
     ]
    }
   ],
   "source": [
    "#výpočet a zobrazéní korelace mezí počtem nabídek produktů a počtů kliků\n",
    "correlation = df['offers'].corr(df['clickCount'])\n",
    "print(f'Korelační koeficient se rovná {correlation}, což ukazuje na to, že mezi počtem nabídek zobrazeného produktu a počtem kliku není lineární závoslot')"
   ]
  },
  {
   "cell_type": "code",
   "execution_count": 9,
   "id": "97039ba7",
   "metadata": {},
   "outputs": [
    {
     "name": "stdout",
     "output_type": "stream",
     "text": [
      "Zobrazíme body na grafu a pokusíme se zjístit, zda existuje jiný druh závislosti\n"
     ]
    },
    {
     "data": {
      "image/png": "[encoded data removed]",
      "text/plain": [
       "<Figure size 360x360 with 1 Axes>"
      ]
     },
     "metadata": {
      "needs_background": "light"
     },
     "output_type": "display_data"
    }
   ],
   "source": [
    "print('Zobrazíme body na grafu a pokusíme se zjístit, zda existuje jiný druh závislosti')\n",
    "g = sns.lmplot(x = 'offers', y = 'clickCount', data = df[['offers','clickCount']])"
   ]
  },
  {
   "cell_type": "markdown",
   "id": "6749d8dd",
   "metadata": {},
   "source": [
    "Na základě koeficientu a grafu můžeme říct že žádná korepace mezí počtem nabídek produktů a jeho proklikovosti není"
   ]
  },
  {
   "cell_type": "markdown",
   "id": "16ada964-7a1b-4681-9ecb-0d54cd7f62cf",
   "metadata": {},
   "source": [
    "### Pro zajimavost se podivám počet prokliků v kategorii produktů, jak se v každé kategorie rozlišuje na základě dostupnosti"
   ]
  },
  {
   "cell_type": "code",
   "execution_count": 10,
   "id": "b97aca00-3a90-4e98-b45e-87d64f55f83a",
   "metadata": {},
   "outputs": [],
   "source": [
    "#výběr dat pro tabulku\n",
    "availability_by_counts = df[['availability','clickCount','categoryName']]"
   ]
  },
  {
   "cell_type": "code",
   "execution_count": 11,
   "id": "05d12a77-1f8e-46d7-be27-c1787fd606bc",
   "metadata": {},
   "outputs": [],
   "source": [
    "#smazání řádků s nůlovou kategorii\n",
    "availability_by_counts = availability_by_counts[availability_by_counts['categoryName'] != 0]"
   ]
  },
  {
   "cell_type": "code",
   "execution_count": 12,
   "id": "330d972b-8a71-4c5c-b312-8fe98e6be03c",
   "metadata": {
    "scrolled": true,
    "tags": []
   },
   "outputs": [
    {
     "data": {
      "text/html": [
       "<div>\n",
       "<style scoped>\n",
       "    .dataframe tbody tr th:only-of-type {\n",
       "        vertical-align: middle;\n",
       "    }\n",
       "\n",
       "    .dataframe tbody tr th {\n",
       "        vertical-align: top;\n",
       "    }\n",
       "\n",
       "    .dataframe thead th {\n",
       "        text-align: right;\n",
       "    }\n",
       "</style>\n",
       "<table border=\"1\" class=\"dataframe\">\n",
       "  <thead>\n",
       "    <tr style=\"text-align: right;\">\n",
       "      <th></th>\n",
       "      <th></th>\n",
       "      <th>clickCount</th>\n",
       "    </tr>\n",
       "    <tr>\n",
       "      <th>categoryName</th>\n",
       "      <th>availability</th>\n",
       "      <th></th>\n",
       "    </tr>\n",
       "  </thead>\n",
       "  <tbody>\n",
       "    <tr>\n",
       "      <th rowspan=\"2\" valign=\"top\">3D brýle</th>\n",
       "      <th>0</th>\n",
       "      <td>0.0</td>\n",
       "    </tr>\n",
       "    <tr>\n",
       "      <th>at_depot</th>\n",
       "      <td>2.0</td>\n",
       "    </tr>\n",
       "    <tr>\n",
       "      <th>3D puzzle</th>\n",
       "      <th>0</th>\n",
       "      <td>0.0</td>\n",
       "    </tr>\n",
       "    <tr>\n",
       "      <th>3D tiskárny</th>\n",
       "      <th>0</th>\n",
       "      <td>0.0</td>\n",
       "    </tr>\n",
       "    <tr>\n",
       "      <th>4x4 pneu</th>\n",
       "      <th>0</th>\n",
       "      <td>0.0</td>\n",
       "    </tr>\n",
       "    <tr>\n",
       "      <th>...</th>\n",
       "      <th>...</th>\n",
       "      <td>...</td>\n",
       "    </tr>\n",
       "    <tr>\n",
       "      <th rowspan=\"4\" valign=\"top\">Žárovky</th>\n",
       "      <th>at_depot</th>\n",
       "      <td>29.0</td>\n",
       "    </tr>\n",
       "    <tr>\n",
       "      <th>in_three_days</th>\n",
       "      <td>3.0</td>\n",
       "    </tr>\n",
       "    <tr>\n",
       "      <th>in_week</th>\n",
       "      <td>5.0</td>\n",
       "    </tr>\n",
       "    <tr>\n",
       "      <th>unknown_availability</th>\n",
       "      <td>2.0</td>\n",
       "    </tr>\n",
       "    <tr>\n",
       "      <th>Žíněnky</th>\n",
       "      <th>0</th>\n",
       "      <td>0.0</td>\n",
       "    </tr>\n",
       "  </tbody>\n",
       "</table>\n",
       "<p>4275 rows × 1 columns</p>\n",
       "</div>"
      ],
      "text/plain": [
       "                                   clickCount\n",
       "categoryName availability                    \n",
       "3D brýle     0                            0.0\n",
       "             at_depot                     2.0\n",
       "3D puzzle    0                            0.0\n",
       "3D tiskárny  0                            0.0\n",
       "4x4 pneu     0                            0.0\n",
       "...                                       ...\n",
       "Žárovky      at_depot                    29.0\n",
       "             in_three_days                3.0\n",
       "             in_week                      5.0\n",
       "             unknown_availability         2.0\n",
       "Žíněnky      0                            0.0\n",
       "\n",
       "[4275 rows x 1 columns]"
      ]
     },
     "execution_count": 12,
     "metadata": {},
     "output_type": "execute_result"
    }
   ],
   "source": [
    "#grupování podle canegory produktů a dostupnosti\n",
    "availability_by_counts.groupby(['categoryName','availability']).sum()"
   ]
  },
  {
   "cell_type": "markdown",
   "id": "6e9f4b8f-1490-41e7-8df7-9f01fb01dc6f",
   "metadata": {},
   "source": [
    "### KOntrola unikatních kombinaci userID + productId"
   ]
  },
  {
   "cell_type": "code",
   "execution_count": 13,
   "id": "61fca39f-df07-490b-bc92-d602d8419673",
   "metadata": {},
   "outputs": [],
   "source": [
    "click_errors = click[['userId','productId']]\n",
    "impress_errors = impress[['userId','productId']]"
   ]
  },
  {
   "cell_type": "code",
   "execution_count": 14,
   "id": "f2657c9c-0a9e-446e-8180-3234480f1425",
   "metadata": {},
   "outputs": [
    {
     "data": {
      "text/html": [
       "<div>\n",
       "<style scoped>\n",
       "    .dataframe tbody tr th:only-of-type {\n",
       "        vertical-align: middle;\n",
       "    }\n",
       "\n",
       "    .dataframe tbody tr th {\n",
       "        vertical-align: top;\n",
       "    }\n",
       "\n",
       "    .dataframe thead th {\n",
       "        text-align: right;\n",
       "    }\n",
       "</style>\n",
       "<table border=\"1\" class=\"dataframe\">\n",
       "  <thead>\n",
       "    <tr style=\"text-align: right;\">\n",
       "      <th></th>\n",
       "      <th>userId</th>\n",
       "      <th>productId</th>\n",
       "    </tr>\n",
       "  </thead>\n",
       "  <tbody>\n",
       "    <tr>\n",
       "      <th>0</th>\n",
       "      <td>1004940724779872737</td>\n",
       "      <td>4065922</td>\n",
       "    </tr>\n",
       "    <tr>\n",
       "      <th>1</th>\n",
       "      <td>1009998163369194601</td>\n",
       "      <td>6101440</td>\n",
       "    </tr>\n",
       "    <tr>\n",
       "      <th>2</th>\n",
       "      <td>1014100200802569040</td>\n",
       "      <td>5862917</td>\n",
       "    </tr>\n",
       "    <tr>\n",
       "      <th>4</th>\n",
       "      <td>1015558666283832248</td>\n",
       "      <td>521666</td>\n",
       "    </tr>\n",
       "    <tr>\n",
       "      <th>6</th>\n",
       "      <td>1020440695658685824</td>\n",
       "      <td>5008657</td>\n",
       "    </tr>\n",
       "    <tr>\n",
       "      <th>...</th>\n",
       "      <td>...</td>\n",
       "      <td>...</td>\n",
       "    </tr>\n",
       "    <tr>\n",
       "      <th>57555</th>\n",
       "      <td>999171352273549046</td>\n",
       "      <td>6283899</td>\n",
       "    </tr>\n",
       "    <tr>\n",
       "      <th>57556</th>\n",
       "      <td>999683602709492851</td>\n",
       "      <td>5009974</td>\n",
       "    </tr>\n",
       "    <tr>\n",
       "      <th>57557</th>\n",
       "      <td>999683602709492851</td>\n",
       "      <td>6345332</td>\n",
       "    </tr>\n",
       "    <tr>\n",
       "      <th>57558</th>\n",
       "      <td>999683602709492851</td>\n",
       "      <td>5004718</td>\n",
       "    </tr>\n",
       "    <tr>\n",
       "      <th>57559</th>\n",
       "      <td>99968690778230464</td>\n",
       "      <td>650605</td>\n",
       "    </tr>\n",
       "  </tbody>\n",
       "</table>\n",
       "<p>33285 rows × 2 columns</p>\n",
       "</div>"
      ],
      "text/plain": [
       "                    userId  productId\n",
       "0      1004940724779872737    4065922\n",
       "1      1009998163369194601    6101440\n",
       "2      1014100200802569040    5862917\n",
       "4      1015558666283832248     521666\n",
       "6      1020440695658685824    5008657\n",
       "...                    ...        ...\n",
       "57555   999171352273549046    6283899\n",
       "57556   999683602709492851    5009974\n",
       "57557   999683602709492851    6345332\n",
       "57558   999683602709492851    5004718\n",
       "57559    99968690778230464     650605\n",
       "\n",
       "[33285 rows x 2 columns]"
      ]
     },
     "execution_count": 14,
     "metadata": {},
     "output_type": "execute_result"
    }
   ],
   "source": [
    "result = pd.concat([click_errors,impress_errors],ignore_index=True).drop_duplicates()\n",
    "result"
   ]
  },
  {
   "cell_type": "code",
   "execution_count": 15,
   "id": "66d26a71-d4cb-4c54-b286-14c4255637ad",
   "metadata": {},
   "outputs": [
    {
     "name": "stdout",
     "output_type": "stream",
     "text": [
      "Počet unikatních: \n",
      "userId       33285\n",
      "productId    33285\n",
      "dtype: int64, \n",
      "proto možná propojení dat na úrovni konkrétního produktu zobrazeného a prokliknutého jedním uživatelem, a to pomocí atributů userId a productId ukazuje tak divné výsledky\n"
     ]
    }
   ],
   "source": [
    "print(f'Počet unikatních: \\n{result.count()}, \\nproto možná propojení dat na úrovni konkrétního produktu zobrazeného a prokliknutého jedním uživatelem, a to pomocí atributů userId a productId ukazuje tak divné výsledky')"
   ]
  },
  {
   "cell_type": "code",
   "execution_count": null,
   "id": "3294d488-ca2f-48f1-99f1-fff50fc01e38",
   "metadata": {},
   "outputs": [],
   "source": []
  }
 ],
 "metadata": {
  "kernelspec": {
   "display_name": "Python 3 (ipykernel)",
   "language": "python",
   "name": "python3"
  },
  "language_info": {
   "codemirror_mode": {
    "name": "ipython",
    "version": 3
   },
   "file_extension": ".py",
   "mimetype": "text/x-python",
   "name": "python",
   "nbconvert_exporter": "python",
   "pygments_lexer": "ipython3",
   "version": "3.10.6"
  }
 },
 "nbformat": 4,
 "nbformat_minor": 5
}
